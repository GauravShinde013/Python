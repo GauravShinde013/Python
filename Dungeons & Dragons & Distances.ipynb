{
 "cells": [
  {
   "cell_type": "markdown",
   "metadata": {},
   "source": [
    "# Dungeons & Dragons & Distances & NaNs"
   ]
  },
  {
   "cell_type": "markdown",
   "metadata": {},
   "source": [
    "**Student name(s)**: Gaurav Shinde  \n",
    "\n",
    "**Student ID(s)**: 23104774"
   ]
  },
  {
   "cell_type": "markdown",
   "metadata": {},
   "source": [
    "### Part 1: Party of Adventurers\n",
    "\n",
    "You are in a tavern in Port Blacksand. There are lots of customers. You want to choose a party of 4 (not including yourself) to go on an adventure. Each possible adventurer has various properties, eg:\n",
    "\n",
    "```python\n",
    "customers = {\n",
    "    'Errik':  {'gender': 'male',   'stamina': 11, 'weapon': 'club',       'skill': 'fighting'},\n",
    "    'Hider':  {'gender': 'male',   'stamina': 7,  'weapon': 'rope',       'skill': 'sneaking'},\n",
    "    # etc\n",
    "}   \n",
    "```\n",
    "\n",
    "Your goal is to choose a party of adventurers with the following properties:\n",
    "\n",
    "* Exactly 4 members not including yourself \n",
    "* At least one male and at least one female\n",
    "* Mean stamina at least 10\n",
    "* At least two swords\n",
    "* At least one person with the 'healing' skill\n",
    "* Because you enjoy making up alliterative nicknames like \"Torvald the Truthful\", there must not be two adventurers whose names start with the same letter.\n",
    "\n",
    "Write each of these properties as a **predicate**, ie a function that returns True or False given a `dict` of adventurers. Collect them into a list, `predicates`."
   ]
  },
  {
   "cell_type": "code",
   "execution_count": null,
   "metadata": {},
   "outputs": [],
   "source": [
    "import doctest, math, itertools, random\n",
    "from itertools import combinations\n",
    "import numpy as np"
   ]
  },
  {
   "cell_type": "code",
   "execution_count": null,
   "metadata": {},
   "outputs": [],
   "source": [
    "test_party = {\n",
    "    'Errik':  {'gender': 'male',   'stamina': 11, 'weapon': 'sword', 'skill': 'fighting'},\n",
    "    'Hider':  {'gender': 'male',   'stamina': 7,  'weapon': 'rope', 'skill': 'sneaking'},\n",
    "    'Kro':    {'gender': 'male',   'stamina': 14, 'weapon': 'fists', 'skill': 'martial arts'},\n",
    "    'Cleo':   {'gender': 'female', 'stamina': 4,  'weapon': 'staff', 'skill': 'healing'},\n",
    "}"
   ]
  },
  {
   "cell_type": "code",
   "execution_count": null,
   "metadata": {},
   "outputs": [],
   "source": [
    "def four_members(d): \n",
    "    return len(d) == 4\n",
    "# DEFINE THE OTHER PREDICATES HERE AND CREATE THE COMPLETE LIST BELOW\n",
    "\n",
    "def gender_balance(d):\n",
    "    # Extract the genders of all individuals from the dictionary values.\n",
    "    all_genders = [person.get('gender') for person in d.values()]\n",
    "    \n",
    "    # Check if we have at least one 'male' and one 'female'. \n",
    "    gender_equality = any(\n",
    "        'male' in pair and 'female' in pair\n",
    "        for pair in combinations(all_genders,2))\n",
    "    return gender_equality\n",
    "\n",
    "def mean_stamina(d):\n",
    "    # Check if the mean stamina of all adventurers is >= 10.\n",
    "    total_stamina = [person.get('stamina') for person in d.values()]        \n",
    "    return np.mean(total_stamina) >= 10\n",
    "    \n",
    "def two_swords(d):\n",
    "    # Check if there are at least two adventurers with 'sword'.\n",
    "    swords_count =sum(1 for person in d.values() if person.get('weapon') == 'sword')    \n",
    "    return swords_count >= 2\n",
    "\n",
    "def healing(d):\n",
    "    # Check if there is at least one adventurer with the skill 'healing'.\n",
    "    return any(person.get('skill') == 'healing' for person in d.values()) \n",
    "    \n",
    "def alliteration(d):\n",
    "    # Extract the first letter of each person's name and convert to lowercase.\n",
    "    name_starts_with = [person[0].lower() for person in d.keys()]\n",
    "    \n",
    "    # Check if there are unique persons with names starting with the same letter.\n",
    "    unique_persons = any(\n",
    "        p1 != p2\n",
    "        for p1, p2 in itertools.combinations(name_starts_with, 2)\n",
    "    )\n",
    "    return unique_persons\n",
    "        \n",
    "    \n",
    "predicates = [\n",
    "    four_members, gender_balance, mean_stamina, two_swords, healing, alliteration\n",
    "]"
   ]
  },
  {
   "cell_type": "code",
   "execution_count": null,
   "metadata": {},
   "outputs": [],
   "source": [
    "def test_preds(party, preds):\n",
    "    \"\"\"\n",
    "    Prove that the proposed party passes all predicates.\n",
    "    \n",
    "    This function is complete: you don't have to write anything.\n",
    "    \n",
    ">>> test_preds(test_party, predicates)\n",
    "four_members True\n",
    "gender_balance True\n",
    "mean_stamina False\n",
    "two_swords False\n",
    "healing True\n",
    "alliteration True\n",
    "    \"\"\"\n",
    "    for pred in preds:\n",
    "        print(pred.__name__, pred(party))"
   ]
  },
  {
   "cell_type": "code",
   "execution_count": null,
   "metadata": {},
   "outputs": [
    {
     "name": "stdout",
     "output_type": "stream",
     "text": [
      "Finding tests in NoName\n",
      "Trying:\n",
      "    test_preds(test_party, predicates)\n",
      "Expecting:\n",
      "    four_members True\n",
      "    gender_balance True\n",
      "    mean_stamina False\n",
      "    two_swords False\n",
      "    healing True\n",
      "    alliteration True\n",
      "ok\n"
     ]
    }
   ],
   "source": [
    "doctest.run_docstring_examples(test_preds, globals(), verbose=True)"
   ]
  },
  {
   "cell_type": "markdown",
   "metadata": {},
   "source": [
    "Below is the complete data on the customers. Write a function using your predicates to see if there are any possible subsets of customers who could form your party."
   ]
  },
  {
   "cell_type": "code",
   "execution_count": null,
   "metadata": {},
   "outputs": [],
   "source": [
    "customers = {\n",
    "    'Errik':  {'gender': 'male',   'stamina': 11, 'weapon': 'club',       'skill': 'fighting'},\n",
    "    'Hider':  {'gender': 'male',   'stamina': 7,  'weapon': 'rope',       'skill': 'sneaking'},\n",
    "    'Kro':    {'gender': 'male',   'stamina': 14, 'weapon': 'fists',      'skill': 'martial arts'},\n",
    "    'Cleo':   {'gender': 'female', 'stamina': 4,  'weapon': 'staff',      'skill': 'healing'},\n",
    "    'Hirso':  {'gender': 'male',   'stamina': 9,  'weapon': 'keys',       'skill': 'lockpicking'},\n",
    "    'Marsha': {'gender': 'female', 'stamina': 8,  'weapon': 'bow',        'skill': 'healing'},\n",
    "    'Muriel': {'gender': 'female', 'stamina': 5,  'weapon': 'sword',      'skill': 'illusions'},\n",
    "    'Nina':   {'gender': 'female', 'stamina': 9,  'weapon': 'crossbow',   'skill': 'sniping'},    \n",
    "    'Hector': {'gender': 'male',   'stamina': 12, 'weapon': 'shield',     'skill': 'defense'},\n",
    "    'Tasha':  {'gender': 'female', 'stamina': 6,  'weapon': 'flute',      'skill': 'healing'},\n",
    "    'Vance':  {'gender': 'male',   'stamina': 15, 'weapon': 'hook',       'skill': 'swashbuckling'},\n",
    "    'Cassie': {'gender': 'female', 'stamina': 11, 'weapon': 'whip',       'skill': 'beast taming'},\n",
    "    'Loki':   {'gender': 'male',   'stamina': 4,  'weapon': 'dagger',     'skill': 'illusion'},\n",
    "    'Mulan':  {'gender': 'female', 'stamina': 12, 'weapon': 'javelin',    'skill': 'strategy'},\n",
    "    'Arya':   {'gender': 'female', 'stamina': 7,  'weapon': 'sword',      'skill': 'assassination'},\n",
    "    'Raj':    {'gender': 'male',   'stamina': 6,  'weapon': 'sling',      'skill': 'healing'}, \n",
    "    'Duncan': {'gender': 'male',   'stamina': 7,  'weapon': 'axe',        'skill': 'woodcutting'},\n",
    "    'Eve':    {'gender': 'female', 'stamina': 11, 'weapon': 'broomstick', 'skill': 'witchery'},\n",
    "    'Evern':  {'gender': 'female', 'stamina': 9,  'weapon': 'sword',      'skill': 'throwing'},\n",
    "    'Omar':   {'gender': 'male',   'stamina': 9,  'weapon': 'mace',       'skill': 'healing'},\n",
    "    'Hamish': {'gender': 'male',   'stamina': 5,  'weapon': 'boomerang',  'skill': 'retrieval'},\n",
    "    'Helena': {'gender': 'female', 'stamina': 6,  'weapon': 'sword',      'skill': 'climbing'},\n",
    "    'Tyrion': {'gender': 'male',   'stamina': 5,  'weapon': 'crossbow',   'skill': 'diplomacy'},\n",
    "}"
   ]
  },
  {
   "cell_type": "code",
   "execution_count": 143,
   "metadata": {},
   "outputs": [],
   "source": [
    "def choose_party(customers, size, predicates):\n",
    "    # Just print out each party as a tuple of names            \n",
    "    ## YOUR CODE HERE - mine is 5 lines\n",
    "    \n",
    "    #Empty list to store selected parties\n",
    "    selected_parties = []\n",
    "    \n",
    "    # Get all possible combinations of customers names of the given size\n",
    "    all_combinations = itertools.combinations(customers.keys(), size)\n",
    "    \n",
    "    # Iterate through all combinations\n",
    "    for combo in all_combinations:\n",
    "        # For each combination create a dictionary with their attributes\n",
    "        each_party = {adventurer: customers[adventurer] for adventurer in combo}\n",
    "        \n",
    "        # Check if all predicates are satisfied for this party and add the party as a tuple of names to the selected parties list\n",
    "        if all(pred(each_party) for pred in predicates):\n",
    "            selected_parties.append(tuple(each_party.keys()))\n",
    "    return selected_parties"
   ]
  },
  {
   "cell_type": "markdown",
   "metadata": {},
   "source": [
    "Now we can call `choose_party`:"
   ]
  },
  {
   "cell_type": "code",
   "execution_count": 141,
   "metadata": {},
   "outputs": [
    {
     "data": {
      "text/plain": [
       "[('Vance', 'Arya', 'Evern', 'Omar')]"
      ]
     },
     "execution_count": 141,
     "metadata": {},
     "output_type": "execute_result"
    }
   ],
   "source": [
    "choose_party(customers, 4, predicates)"
   ]
  },
  {
   "cell_type": "markdown",
   "metadata": {},
   "source": [
    "How many different possible parties did you find? Answer by writing the number below."
   ]
  },
  {
   "cell_type": "markdown",
   "metadata": {
    "jp-MarkdownHeadingCollapsed": true,
    "tags": []
   },
   "source": [
    "### YOUR ANSWER HERE: 1\n"
   ]
  },
  {
   "cell_type": "markdown",
   "metadata": {},
   "source": [
    "### Part 2: Treasure Chests\n",
    "\n",
    "While wandering in the fortress of the Goblin King, you've discovered a box of treasure!\n",
    "\n",
    "Your job is to tell the other adventurers **whether it contains** a `golden key`. \n",
    "\n",
    "The problem is - the box contains some items, like keys and coins and bracelets, but it also contains some other containers, like jewel-encrusted cases, leather pouches, or even other boxes. For each container you might have to search within it - recursively. An item is represented by a `str`, but a container is represented by a `list`.\n",
    " \n",
    "Write a recursive function to return True or False."
   ]
  },
  {
   "cell_type": "code",
   "execution_count": null,
   "metadata": {},
   "outputs": [],
   "source": [
    "def search_for(container, item):\n",
    "    \"\"\"\n",
    "    >>> search_for(['coin', 'crown', 'key'], 'key')\n",
    "    True\n",
    "    >>> search_for(['coin', 'crown', 'key'], 'dagger')\n",
    "    False\n",
    "    >>> box = ['coin', 'coin', 'silver coin', 'silver key', 'needle', 'golden crown', \n",
    "    ...        ['coin', 'coin', 'coin'], 'diamond', 'small diamond',\n",
    "    ...        ['coin'], \n",
    "    ...        ['potion of healing', 'scroll'],\n",
    "    ...        ['golden key']]\n",
    "    >>> search_for(box, 'coin')    \n",
    "    True\n",
    "    >>> search_for(box, 'silver crown')    \n",
    "    False\n",
    "    >>> search_for(box, 'small diamond')    \n",
    "    True\n",
    "    \"\"\"\n",
    "    ## YOUR CODE HERE - mine is 8 lines\n",
    "    # Iterate through each treasure in the container\n",
    "    for treasure in container:\n",
    "        # Checks if this is the treasure we are looking for\n",
    "        if treasure == item: return True\n",
    "    \n",
    "        # Check if the current 'treasure' is itself another container of treasures.\n",
    "        elif isinstance(treasure, list):\n",
    "            # Recursively search for our treasure within the nested 'treasure'.\n",
    "            result = search_for(treasure, item)\n",
    "            \n",
    "            # If our treasure is found in the nested 'treasure', return True.\n",
    "            if result is True: return result                                            \n",
    "    return False"
   ]
  },
  {
   "cell_type": "code",
   "execution_count": null,
   "metadata": {},
   "outputs": [
    {
     "name": "stdout",
     "output_type": "stream",
     "text": [
      "Finding tests in NoName\n",
      "Trying:\n",
      "    search_for(['coin', 'crown', 'key'], 'key')\n",
      "Expecting:\n",
      "    True\n",
      "ok\n",
      "Trying:\n",
      "    search_for(['coin', 'crown', 'key'], 'dagger')\n",
      "Expecting:\n",
      "    False\n",
      "ok\n",
      "Trying:\n",
      "    box = ['coin', 'coin', 'silver coin', 'silver key', 'needle', 'golden crown', \n",
      "           ['coin', 'coin', 'coin'], 'diamond', 'small diamond',\n",
      "           ['coin'], \n",
      "           ['potion of healing', 'scroll'],\n",
      "           ['golden key']]\n",
      "Expecting nothing\n",
      "ok\n",
      "Trying:\n",
      "    search_for(box, 'coin')    \n",
      "Expecting:\n",
      "    True\n",
      "ok\n",
      "Trying:\n",
      "    search_for(box, 'silver crown')    \n",
      "Expecting:\n",
      "    False\n",
      "ok\n",
      "Trying:\n",
      "    search_for(box, 'small diamond')    \n",
      "Expecting:\n",
      "    True\n",
      "ok\n"
     ]
    }
   ],
   "source": [
    "doctest.run_docstring_examples(search_for, globals(), verbose=True)"
   ]
  },
  {
   "cell_type": "markdown",
   "metadata": {},
   "source": [
    "### Part 3: The NaNs of Truth\n",
    "\n",
    "One of the items you discovered in the box of treasure was a scroll. When you read it, you see that written on it are 4 strange symbols:"
   ]
  },
  {
   "cell_type": "code",
   "execution_count": null,
   "metadata": {},
   "outputs": [],
   "source": [
    "scroll = [-math.inf, math.pi, math.inf, math.nan]"
   ]
  },
  {
   "cell_type": "markdown",
   "metadata": {},
   "source": [
    "As you watch, these symbols almost seem to `float` into the air:"
   ]
  },
  {
   "cell_type": "code",
   "execution_count": null,
   "metadata": {},
   "outputs": [
    {
     "name": "stdout",
     "output_type": "stream",
     "text": [
      "<class 'float'>\n",
      "<class 'float'>\n",
      "<class 'float'>\n",
      "<class 'float'>\n"
     ]
    }
   ],
   "source": [
    "for x in scroll:\n",
    "    print(type(x))"
   ]
  },
  {
   "cell_type": "markdown",
   "metadata": {},
   "source": [
    "These symbols have unexpected properties which we will investigate by making **two** tables. In each table, every symbol has to be compared to every other:\n",
    "\n",
    "* A **less than** table\n",
    "* An **equal to** table. \n",
    "\n",
    "In a table like this, each element is either `True` or `False`, represented as `1` or `0`.\n",
    "\n",
    "For example, a **less than** table for the `int`s `[1, 2, 3]` would be like this:\n",
    "\n",
    "```python\n",
    "0 1 1\n",
    "0 0 1\n",
    "0 0 0\n",
    "```\n",
    "\n",
    "Your job is to make a **less than** table and an **equal to** table for the symbols of the `scroll`.\n",
    "\n",
    "According to the famous wizards Hunt and Thomas' **rule of DRY**, we should avoid repeating code. So, our two tables should each be created by calling two common underlying functions, one to make a table and one to print a table."
   ]
  },
  {
   "cell_type": "code",
   "execution_count": 149,
   "metadata": {},
   "outputs": [],
   "source": [
    "def print_table(table):\n",
    "    \"\"\"\n",
    "    The input table should be a list of list of bool.\n",
    "    \n",
    "    This function should print the table in a nice square\n",
    "    binary format.\n",
    "\n",
    ">>> print_table([[True, True], [False, False]])\n",
    "1 1\n",
    "0 0\n",
    "    \"\"\"\n",
    "    ## YOUR CODE HERE - mine is 2 lines\n",
    "    # Convert each boolean into int first and later to string and combine them to display in given format\n",
    "    disp_table = '\\n'.join([' '.join([str(int(value)) for value in bool_list]) for bool_list in table])\n",
    "    print(disp_table)"
   ]
  },
  {
   "cell_type": "code",
   "execution_count": 151,
   "metadata": {},
   "outputs": [
    {
     "name": "stdout",
     "output_type": "stream",
     "text": [
      "Finding tests in NoName\n",
      "Trying:\n",
      "    print_table([[True, True], [False, False]])\n",
      "Expecting:\n",
      "    1 1\n",
      "    0 0\n",
      "ok\n"
     ]
    }
   ],
   "source": [
    "doctest.run_docstring_examples(print_table, globals(), verbose=True)"
   ]
  },
  {
   "cell_type": "code",
   "execution_count": 94,
   "metadata": {},
   "outputs": [],
   "source": [
    "def make_table(L, fn):\n",
    "    \"\"\"\n",
    "    This function should return a list of list of bool.\n",
    ">>> make_table([1, 2, 3], (lambda x, y: x < y))\n",
    "[[False, True, True], [False, False, True], [False, False, False]]\n",
    "    \"\"\"\n",
    "    ## YOUR CODE HERE - mine is 1 line\n",
    "    # Create a list of lists, using the comparison function \n",
    "    # such that each element in the given list is compared against every element including itself.\n",
    "    return [[fn(i,j) for j in L] for i in L]"
   ]
  },
  {
   "cell_type": "code",
   "execution_count": 96,
   "metadata": {},
   "outputs": [
    {
     "name": "stdout",
     "output_type": "stream",
     "text": [
      "Finding tests in NoName\n",
      "Trying:\n",
      "    make_table([1, 2, 3], (lambda x, y: x < y))\n",
      "Expecting:\n",
      "    [[False, True, True], [False, False, True], [False, False, False]]\n",
      "ok\n"
     ]
    }
   ],
   "source": [
    "doctest.run_docstring_examples(make_table, globals(), verbose=True)"
   ]
  },
  {
   "cell_type": "code",
   "execution_count": 98,
   "metadata": {},
   "outputs": [],
   "source": [
    "def make_lt_table(L):\n",
    "    \"\"\"\n",
    ">>> make_lt_table([1, 2, 3])\n",
    "0 1 1\n",
    "0 0 1\n",
    "0 0 0\n",
    ">>> scroll = [-math.inf, math.pi, math.inf, math.nan]\n",
    ">>> make_lt_table(scroll)\n",
    "0 1 1 0\n",
    "0 0 1 0\n",
    "0 0 0 0\n",
    "0 0 0 0\n",
    "    \"\"\"\n",
    "    ## YOUR CODE HERE - MUST CALL print_table and make_table\n",
    "    ## mine is 1 line\n",
    "    print_table(make_table(L,lambda x,y: x < y))"
   ]
  },
  {
   "cell_type": "code",
   "execution_count": 100,
   "metadata": {},
   "outputs": [
    {
     "name": "stdout",
     "output_type": "stream",
     "text": [
      "Finding tests in NoName\n",
      "Trying:\n",
      "    make_lt_table([1, 2, 3])\n",
      "Expecting:\n",
      "    0 1 1\n",
      "    0 0 1\n",
      "    0 0 0\n",
      "ok\n",
      "Trying:\n",
      "    scroll = [-math.inf, math.pi, math.inf, math.nan]\n",
      "Expecting nothing\n",
      "ok\n",
      "Trying:\n",
      "    make_lt_table(scroll)\n",
      "Expecting:\n",
      "    0 1 1 0\n",
      "    0 0 1 0\n",
      "    0 0 0 0\n",
      "    0 0 0 0\n",
      "ok\n"
     ]
    }
   ],
   "source": [
    "doctest.run_docstring_examples(make_lt_table, globals(), verbose=True)"
   ]
  },
  {
   "cell_type": "code",
   "execution_count": 106,
   "metadata": {},
   "outputs": [],
   "source": [
    "def make_eq_table(L):\n",
    "    \"\"\"\n",
    ">>> make_eq_table([1, 2, 3])\n",
    "1 0 0\n",
    "0 1 0\n",
    "0 0 1\n",
    ">>> scroll = [-math.inf, math.pi, math.inf, math.nan]\n",
    ">>> make_eq_table(scroll)\n",
    "1 0 0 0\n",
    "0 1 0 0\n",
    "0 0 1 0\n",
    "0 0 0 0\n",
    "    \"\"\"\n",
    "    ## YOUR CODE HERE - must call print_table and make_table\n",
    "    ## mine is 1 line\n",
    "    print_table(make_table(L, lambda x,y: x == y))"
   ]
  },
  {
   "cell_type": "code",
   "execution_count": 108,
   "metadata": {},
   "outputs": [
    {
     "name": "stdout",
     "output_type": "stream",
     "text": [
      "Finding tests in NoName\n",
      "Trying:\n",
      "    make_eq_table([1, 2, 3])\n",
      "Expecting:\n",
      "    1 0 0\n",
      "    0 1 0\n",
      "    0 0 1\n",
      "ok\n",
      "Trying:\n",
      "    scroll = [-math.inf, math.pi, math.inf, math.nan]\n",
      "Expecting nothing\n",
      "ok\n",
      "Trying:\n",
      "    make_eq_table(scroll)\n",
      "Expecting:\n",
      "    1 0 0 0\n",
      "    0 1 0 0\n",
      "    0 0 1 0\n",
      "    0 0 0 0\n",
      "ok\n"
     ]
    }
   ],
   "source": [
    "doctest.run_docstring_examples(make_eq_table, globals(), verbose=True)"
   ]
  },
  {
   "cell_type": "markdown",
   "metadata": {
    "slideshow": {
     "slide_type": "slide"
    }
   },
   "source": [
    "The oldest member of your adventuring party then tells a long, rambling story while everyone yawns.  \"In a city I don't want to mention the name of, on a street called Diagon Alley, there is a certain interesting property. Usually, in a square table like this, we see there is a special value on the diagonal. For example in an **equal to** table, usually every element is equal to itself, so we usually have `1` on the diagonal.\" \n",
    "\n",
    "But is this true for the strange symbols of the scroll? Answer by writing below the name of the strange symbol which is not equal to itself."
   ]
  },
  {
   "cell_type": "markdown",
   "metadata": {},
   "source": [
    "### YOUR ANSWER HERE:"
   ]
  },
  {
   "cell_type": "markdown",
   "metadata": {},
   "source": [
    "### Part 4: the Nearest Defender\n",
    "\n",
    "There is one final challenge. The evil warlock has lifted your party into a higher dimension and is going to attack. \n",
    "\n",
    "When he attacks, you need to find out which of you is closest to him, in order to defend. But how can you calculate that in a higher dimension (specifically, in $n$ dimensions)? Use the **Euclidean distance** spell:\n",
    "\n",
    "$$\\mathrm{distance}(x, y) = \\sqrt{\\sum_{i=1}^n (x_i - y_i)^2}$$\n",
    "\n",
    "But make sure you use **vectorisation** in your spell, because otherwise your spell will be too slow when $n$ is large!"
   ]
  },
  {
   "cell_type": "code",
   "execution_count": 110,
   "metadata": {},
   "outputs": [],
   "source": [
    "def distance(x, y):\n",
    "    ## YOUR CODE HERE - must use vectorisation\n",
    "    ## mine is 1 line\n",
    "    if len(x) != len(y):\n",
    "        raise ValueError(\"Both points must have the same number of dimensions\")\n",
    "    # use vectorisation    \n",
    "    x = np.array(x)\n",
    "    y = np.array(y)\n",
    "    dist = x - y\n",
    "    # Calculate and return the euclidean distance\n",
    "    return np.sqrt(np.sum(dist ** 2))"
   ]
  },
  {
   "cell_type": "markdown",
   "metadata": {},
   "source": [
    "Then, write a spell to calculate which member of your party is the closest to the attacker's location."
   ]
  },
  {
   "cell_type": "code",
   "execution_count": 124,
   "metadata": {},
   "outputs": [],
   "source": [
    "def choose_defender(defender_names, defender_locs, attacker_loc):\n",
    "    \"\"\"\n",
    "    >>> names = ['a', 'b', 'c', 'd']\n",
    "    >>> locs = [[-10, -10], [-5, 0], [5, 5], [2, 5]]\n",
    "    >>> choose_defender(names, locs, [1, 4])\n",
    "    'd'\n",
    "    >>> choose_defender(names, locs, [-1, -14])\n",
    "    'a'\n",
    "    >>> locs = [[1, 1, 1, 1], [3, 1, 1, 1], [0, 0, 0, 0], [5, 5, 5, 5]]\n",
    "    >>> choose_defender(names, locs, [4, 0, 0, 0])\n",
    "    'b'\n",
    "    \"\"\"\n",
    "    ## YOUR CODE HERE - mine is 5 lines\n",
    "    \"\"\"\n",
    "    This is inefficient and lengthy code\n",
    "    ---------------------------------------\n",
    "    defending_dist = math.inf\n",
    "    defender_index = 0\n",
    "    for index, defender in enumerate(defender_locs):\n",
    "        x = distance(defender, attacker_loc)\n",
    "        if x < defending_dist:\n",
    "            defender_index = index\n",
    "            defending_dist = x\n",
    "    #return defender_names[defender_index]\n",
    "    \"\"\"\n",
    "    # Combine defender names and locations into pairs using zip.\n",
    "    # The min() function finds the tuple with the minimum distance based on the key function.\n",
    "    def_info = min(zip(defender_names, defender_locs), key= lambda  x: distance(x[1], attacker_loc))\n",
    "    # def_info =  (defender's name, defender's location)\n",
    "    return def_info[0]\n",
    "    "
   ]
  },
  {
   "cell_type": "code",
   "execution_count": 126,
   "metadata": {},
   "outputs": [
    {
     "name": "stdout",
     "output_type": "stream",
     "text": [
      "Finding tests in NoName\n",
      "Trying:\n",
      "    names = ['a', 'b', 'c', 'd']\n",
      "Expecting nothing\n",
      "ok\n",
      "Trying:\n",
      "    locs = [[-10, -10], [-5, 0], [5, 5], [2, 5]]\n",
      "Expecting nothing\n",
      "ok\n",
      "Trying:\n",
      "    choose_defender(names, locs, [1, 4])\n",
      "Expecting:\n",
      "    'd'\n",
      "ok\n",
      "Trying:\n",
      "    choose_defender(names, locs, [-1, -14])\n",
      "Expecting:\n",
      "    'a'\n",
      "ok\n",
      "Trying:\n",
      "    locs = [[1, 1, 1, 1], [3, 1, 1, 1], [0, 0, 0, 0], [5, 5, 5, 5]]\n",
      "Expecting nothing\n",
      "ok\n",
      "Trying:\n",
      "    choose_defender(names, locs, [4, 0, 0, 0])\n",
      "Expecting:\n",
      "    'b'\n",
      "ok\n"
     ]
    }
   ],
   "source": [
    "doctest.run_docstring_examples(choose_defender, globals(), verbose=True)"
   ]
  }
 ],
 "metadata": {
  "kernelspec": {
   "display_name": "anaconda-2022.05-py39",
   "language": "python",
   "name": "conda-env-anaconda-2022.05-py39-py"
  },
  "language_info": {
   "codemirror_mode": {
    "name": "ipython",
    "version": 3
   },
   "file_extension": ".py",
   "mimetype": "text/x-python",
   "name": "python",
   "nbconvert_exporter": "python",
   "pygments_lexer": "ipython3",
   "version": "3.9.12"
  }
 },
 "nbformat": 4,
 "nbformat_minor": 4
}
